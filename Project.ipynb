{
 "cells": [
  {
   "cell_type": "code",
   "execution_count": 1,
   "metadata": {},
   "outputs": [
    {
     "name": "stdout",
     "output_type": "stream",
     "text": [
      "Please enter password in the VS Code prompt at the top of your VS Code window!\n",
      "OpenAI API key configured\n"
     ]
    }
   ],
   "source": [
    "import os\n",
    "from getpass import getpass\n",
    "import openai\n",
    "\n",
    "# Setup your Openai API key\n",
    "if os.getenv(\"OPENAI_API_KEY\") is None:\n",
    "  if any(['VSCODE' in x for x in os.environ.keys()]):\n",
    "    print('Please enter password in the VS Code prompt at the top of your VS Code window!')\n",
    "  os.environ[\"OPENAI_API_KEY\"] = getpass(\"Paste your OpenAI key from: https://platform.openai.com/account/api-keys\\n\")\n",
    "  openai.api_key = os.getenv(\"OPENAI_API_KEY\", \"\")\n",
    "\n",
    "assert os.getenv(\"OPENAI_API_KEY\", \"\").startswith(\"sk-\"), \"This doesn't look like a valid OpenAI API key\"\n",
    "print(\"OpenAI API key configured\")"
   ]
  },
  {
   "cell_type": "code",
   "execution_count": 2,
   "metadata": {},
   "outputs": [
    {
     "data": {
      "text/plain": [
       "{'$defs': {'Address': {'properties': {'address': {'description': 'Full street address',\n",
       "     'title': 'Address',\n",
       "     'type': 'string'},\n",
       "    'city': {'title': 'City', 'type': 'string'},\n",
       "    'state': {'title': 'State', 'type': 'string'}},\n",
       "   'required': ['address', 'city', 'state'],\n",
       "   'title': 'Address',\n",
       "   'type': 'object'}},\n",
       " 'description': 'A Person with an address',\n",
       " 'properties': {'name': {'title': 'Name', 'type': 'string'},\n",
       "  'age': {'title': 'Age', 'type': 'integer'},\n",
       "  'address': {'$ref': '#/$defs/Address'}},\n",
       " 'required': ['name', 'age', 'address'],\n",
       " 'title': 'PersonAddress',\n",
       " 'type': 'object'}"
      ]
     },
     "execution_count": 2,
     "metadata": {},
     "output_type": "execute_result"
    }
   ],
   "source": [
    "from pydantic import BaseModel, Field\n",
    "\n",
    "class Person(BaseModel):\n",
    "    name: str\n",
    "    age: int\n",
    "\n",
    "class Address(BaseModel):\n",
    "    address: str = Field(description=\"Full street address\")\n",
    "    city: str\n",
    "    state: str\n",
    "\n",
    "\n",
    "class PersonAddress(Person):\n",
    "    \"\"\"A Person with an address\"\"\"\n",
    "\n",
    "    address: Address\n",
    "\n",
    "\n",
    "PersonAddress.model_json_schema()"
   ]
  },
  {
   "cell_type": "markdown",
   "metadata": {},
   "source": [
    "## AIM OF THE PROJECT\n",
    "1. Given a question, figure out what ticker, year, quarter, form type it is talking about\n",
    "2. Collect this metadata and search from vector database from relevant ticker(s) \n",
    "3. RAG application\n",
    "4. Add a LLM Validator to ask questions related to finance only"
   ]
  },
  {
   "cell_type": "code",
   "execution_count": 3,
   "metadata": {},
   "outputs": [
    {
     "name": "stderr",
     "output_type": "stream",
     "text": [
      "[nltk_data] Downloading package punkt to /home/athekunal/nltk_data...\n",
      "[nltk_data]   Package punkt is already up-to-date!\n"
     ]
    }
   ],
   "source": [
    "from src.vectorDatabase import create_database\n",
    "\n",
    "# qdrant_client,speakers_list_1,speakers_list_2,speakers_list_3,speakers_list_4,sec_form_names,earnings_call_quarter_vals, = create_database(\"AAPL\",2023)"
   ]
  },
  {
   "cell_type": "code",
   "execution_count": 4,
   "metadata": {},
   "outputs": [],
   "source": [
    "import instructor\n",
    "\n",
    "from openai import OpenAI\n",
    "from typing import List\n",
    "from pydantic import BaseModel, Field\n",
    "\n",
    "client = instructor.patch(OpenAI())"
   ]
  },
  {
   "cell_type": "code",
   "execution_count": 5,
   "metadata": {},
   "outputs": [],
   "source": [
    "from typing import List, Literal\n",
    "from enum import Enum\n",
    "\n",
    "class Source(Enum):\n",
    "    sec_quarter_1 = \"10-Q1\"\n",
    "\n",
    "class TickerYearQuarter(BaseModel):\n",
    "    chain_of_thought: str = Field(\n",
    "        description=\"Think step by step to output what is the ticker symbols, NOT THE COMPANY NAME, quarter, year and data source the question is talking about\"\n",
    "    )\n",
    "    ticker:List[str] \n",
    "    year: List[str] = Field(description=\"The year that the question is talking about\")\n",
    "    quarter: List[str] = Field(description=\"The quarter number that the question is talking about. Make sure that it starts with Q, for example Quarter 4 is Q4\")\n",
    "    data_source: Literal[\"CALLS\",\"SEC\"] = Field(description=\"If the question is talking about SEC filings then output SEC, else if the question is talking about Earning calls transcript then output CALLS\")\n",
    "\n",
    "class Query(BaseModel):\n",
    "    rewritten_query: str = Field(description=\"Rewrite the query and DON'T include the company name, years, quarters and data sources\")\n",
    "    question_ticker_quarter_year: TickerYearQuarter"
   ]
  },
  {
   "cell_type": "code",
   "execution_count": 6,
   "metadata": {},
   "outputs": [],
   "source": [
    "from datetime import datetime\n",
    "import pandas as pd\n",
    "\n",
    "def expand_query(q) -> Query:\n",
    "    datetime_obj =  datetime.today().strftime(\"%Y-%m-%d\")\n",
    "    quarter = pd.Timestamp(datetime_obj).quarter\n",
    "    year = pd.Timestamp(datetime_obj).year\n",
    "    return client.chat.completions.create(\n",
    "        model=\"gpt-3.5-turbo-0125\",\n",
    "        temperature=0.0,\n",
    "        response_model=Query,\n",
    "        messages=[\n",
    "            {\n",
    "                \"role\": \"system\",\n",
    "                \"content\": f\"You're a query understanding system for SEC Filings and Earnings Call. The current year is {year} and quarter {quarter}. Here are some tips: ...\",\n",
    "            },\n",
    "            {\"role\": \"user\", \"content\": f\"query: {q}\"},\n",
    "        ],\n",
    "    )\n",
    "\n",
    "\n",
    "# query = expand_query(\"What did Apple, Nvidia do for Generative AI in 2023 quarter 3, 2 and 1 from earnings call\")\n",
    "query = expand_query(\"What did Apple and Amazon do for Generative AI in 2023 in quarter 4 from earnings call\")"
   ]
  },
  {
   "cell_type": "code",
   "execution_count": 7,
   "metadata": {},
   "outputs": [
    {
     "data": {
      "text/plain": [
       "Query(rewritten_query='Generative AI initiatives in Q4 2023 for Apple and Amazon from earnings call', question_ticker_quarter_year=TickerYearQuarter(chain_of_thought='Generative AI initiatives in Q4 2023', ticker=['AAPL', 'AMZN'], year=['2023'], quarter=['Q4'], data_source='CALLS'))"
      ]
     },
     "execution_count": 7,
     "metadata": {},
     "output_type": "execute_result"
    }
   ],
   "source": [
    "query"
   ]
  },
  {
   "cell_type": "code",
   "execution_count": 8,
   "metadata": {},
   "outputs": [
    {
     "data": {
      "text/plain": [
       "['2023']"
      ]
     },
     "execution_count": 8,
     "metadata": {},
     "output_type": "execute_result"
    }
   ],
   "source": [
    "query.question_ticker_quarter_year.year"
   ]
  },
  {
   "cell_type": "code",
   "execution_count": 9,
   "metadata": {},
   "outputs": [
    {
     "data": {
      "text/plain": [
       "['Q4']"
      ]
     },
     "execution_count": 9,
     "metadata": {},
     "output_type": "execute_result"
    }
   ],
   "source": [
    "query.question_ticker_quarter_year.quarter"
   ]
  },
  {
   "cell_type": "code",
   "execution_count": 10,
   "metadata": {},
   "outputs": [],
   "source": [
    "tickers = query.question_ticker_quarter_year.ticker\n",
    "years = query.question_ticker_quarter_year.year\n",
    "quarter = query.question_ticker_quarter_year.quarter\n"
   ]
  },
  {
   "cell_type": "code",
   "execution_count": 11,
   "metadata": {},
   "outputs": [],
   "source": [
    "# tic = 'AAPL'\n",
    "# var_name = f\"qdrant_client_{tic}\"\n",
    "# globals()[var_name] = qdrant_client"
   ]
  },
  {
   "cell_type": "code",
   "execution_count": 12,
   "metadata": {},
   "outputs": [],
   "source": [
    "# qdrant_client_AAPL"
   ]
  },
  {
   "cell_type": "code",
   "execution_count": 13,
   "metadata": {},
   "outputs": [
    {
     "name": "stdout",
     "output_type": "stream",
     "text": [
      "Building vector database for AAPL and year 2023\n"
     ]
    },
    {
     "name": "stderr",
     "output_type": "stream",
     "text": [
      "/home/athekunal/Wandb Course/wandb-env/lib/python3.11/site-packages/torch/cuda/__init__.py:141: UserWarning: CUDA initialization: The NVIDIA driver on your system is too old (found version 11060). Please update your GPU driver by downloading and installing a new version from the URL: http://www.nvidia.com/Download/index.aspx Alternatively, go to: https://pytorch.org to install a PyTorch version that has been compiled with your version of the CUDA driver. (Triggered internally at ../c10/cuda/CUDAFunctions.cpp:108.)\n",
      "  return torch._C._cuda_getDeviceCount() > 0\n"
     ]
    },
    {
     "name": "stdout",
     "output_type": "stream",
     "text": [
      "Done for AAPL and year 2023\n",
      "Building vector database for AMZN and year 2023\n",
      "Done for AMZN and year 2023\n"
     ]
    }
   ],
   "source": [
    "tic_yr_dict = {}\n",
    "for tic in tickers:\n",
    "    for yr in years:\n",
    "        print(f\"Building vector database for {tic} and year {yr}\")\n",
    "        qdrant_client,speakers_list_1,speakers_list_2,speakers_list_3,speakers_list_4,sec_form_names,earnings_call_quarter_vals = create_database(tic,yr)\n",
    "        qd_client_var_name = f\"qdrant_client_{tic}\"\n",
    "        tic_yr_dict[qd_client_var_name] = qdrant_client\n",
    "        speakers_list_1_var_name = f\"speakers_list_1_{tic}\"\n",
    "        tic_yr_dict[speakers_list_1_var_name] = speakers_list_1\n",
    "        speakers_list_2_var_name = f\"speakers_list_2_{tic}\"\n",
    "        tic_yr_dict[speakers_list_2_var_name] = speakers_list_2\n",
    "        speakers_list_3_var_name = f\"speakers_list_3_{tic}\"\n",
    "        tic_yr_dict[speakers_list_3_var_name] = speakers_list_3\n",
    "        speakers_list_4_var_name = f\"speakers_list_4_{tic}\"\n",
    "        tic_yr_dict[speakers_list_4_var_name] = speakers_list_4\n",
    "        sec_form_names_var_name = f\"sec_form_names_{tic}\"\n",
    "        tic_yr_dict[sec_form_names_var_name] = sec_form_names\n",
    "        earnings_call_quarter_vals_var_name = f\"earnings_call_quarter_vals_{tic}\"\n",
    "        tic_yr_dict[earnings_call_quarter_vals_var_name] = earnings_call_quarter_vals_var_name\n",
    "    print(f\"Done for {tic} and year {yr}\")"
   ]
  },
  {
   "cell_type": "code",
   "execution_count": 14,
   "metadata": {},
   "outputs": [],
   "source": [
    "from sentence_transformers import SentenceTransformer\n",
    "from src.config import *\n",
    "import torch\n",
    "\n",
    "device = \"cuda\" if torch.cuda.is_available() else \"cpu\"\n",
    "encoder = SentenceTransformer(\n",
    "        ENCODER_NAME, device=device, trust_remote_code=True\n",
    "    )"
   ]
  },
  {
   "cell_type": "code",
   "execution_count": 15,
   "metadata": {},
   "outputs": [
    {
     "data": {
      "text/plain": [
       "Query(rewritten_query='Generative AI initiatives in Q4 2023 for Apple and Amazon from earnings call', question_ticker_quarter_year=TickerYearQuarter(chain_of_thought='Generative AI initiatives in Q4 2023', ticker=['AAPL', 'AMZN'], year=['2023'], quarter=['Q4'], data_source='CALLS'))"
      ]
     },
     "execution_count": 15,
     "metadata": {},
     "output_type": "execute_result"
    }
   ],
   "source": [
    "query "
   ]
  },
  {
   "cell_type": "code",
   "execution_count": 27,
   "metadata": {},
   "outputs": [],
   "source": [
    "from src.queryDatabase import query_database_earnings_call, query_database_sec\n",
    "\n",
    "question = query.rewritten_query\n",
    "relevant_text = \"\"\n",
    "for tic in tickers:\n",
    "    if query.question_ticker_quarter_year.data_source == \"CALLS\":\n",
    "        for q in quarter:\n",
    "            print(q)\n",
    "            if q == \"Q1\":\n",
    "                speakers_list = tic_yr_dict[f\"speakers_list_1_{tic}\"]\n",
    "            elif q == \"Q2\":\n",
    "                speakers_list = tic_yr_dict[f\"speakers_list_2_{tic}\"]\n",
    "            elif q == \"Q3\":\n",
    "                speakers_list = tic_yr_dict[f\"speakers_list_3_{tic}\"]\n",
    "            elif q == \"Q4\":\n",
    "                speakers_list = tic_yr_dict[f\"speakers_list_4_{tic}\"]\n",
    "            \n",
    "            relevant_text += f\"For {tic} and Quarter {q}\\n\"\n",
    "            relevant_text += query_database_earnings_call(question,q,tic_yr_dict[f\"qdrant_client_{tic}\"],encoder,speakers_list)\n",
    "    if query.question_ticker_quarter_year.data_source == \"SEC\":\n",
    "        if quarter == [\"\"]:\n",
    "            search_form = \"10-K\"\n",
    "            relevant_text += query_database_sec(question, tic_yr_dict[f\"qdrant_client_{tic}\"], encoder, search_form)\n",
    "        else:\n",
    "            for q in quarter:\n",
    "                search_form = \"10-\"+q\n",
    "                relevant_text += f\"For ticker {tic} and Quarter {q}\\n\"\n",
    "                relevant_text += query_database_sec(question, tic_yr_dict[f\"qdrant_client_{tic}\"], encoder, search_form)\n",
    "            "
   ]
  },
  {
   "cell_type": "code",
   "execution_count": null,
   "metadata": {},
   "outputs": [],
   "source": []
  }
 ],
 "metadata": {
  "kernelspec": {
   "display_name": "wandb-env",
   "language": "python",
   "name": "python3"
  },
  "language_info": {
   "codemirror_mode": {
    "name": "ipython",
    "version": 3
   },
   "file_extension": ".py",
   "mimetype": "text/x-python",
   "name": "python",
   "nbconvert_exporter": "python",
   "pygments_lexer": "ipython3",
   "version": "3.11.4"
  }
 },
 "nbformat": 4,
 "nbformat_minor": 2
}

{
 "cells": [
  {
   "cell_type": "code",
   "execution_count": 1,
   "metadata": {},
   "outputs": [
    {
     "name": "stdout",
     "output_type": "stream",
     "text": [
      "Please enter password in the VS Code prompt at the top of your VS Code window!\n",
      "OpenAI API key configured\n"
     ]
    }
   ],
   "source": [
    "import os\n",
    "from getpass import getpass\n",
    "import openai\n",
    "\n",
    "# Setup your Openai API key\n",
    "if os.getenv(\"OPENAI_API_KEY\") is None:\n",
    "  if any(['VSCODE' in x for x in os.environ.keys()]):\n",
    "    print('Please enter password in the VS Code prompt at the top of your VS Code window!')\n",
    "  os.environ[\"OPENAI_API_KEY\"] = getpass(\"Paste your OpenAI key from: https://platform.openai.com/account/api-keys\\n\")\n",
    "  openai.api_key = os.getenv(\"OPENAI_API_KEY\", \"\")\n",
    "\n",
    "assert os.getenv(\"OPENAI_API_KEY\", \"\").startswith(\"sk-\"), \"This doesn't look like a valid OpenAI API key\"\n",
    "print(\"OpenAI API key configured\")"
   ]
  },
  {
   "cell_type": "code",
   "execution_count": 2,
   "metadata": {},
   "outputs": [
    {
     "data": {
      "text/plain": [
       "{'$defs': {'Address': {'properties': {'address': {'description': 'Full street address',\n",
       "     'title': 'Address',\n",
       "     'type': 'string'},\n",
       "    'city': {'title': 'City', 'type': 'string'},\n",
       "    'state': {'title': 'State', 'type': 'string'}},\n",
       "   'required': ['address', 'city', 'state'],\n",
       "   'title': 'Address',\n",
       "   'type': 'object'}},\n",
       " 'description': 'A Person with an address',\n",
       " 'properties': {'name': {'title': 'Name', 'type': 'string'},\n",
       "  'age': {'title': 'Age', 'type': 'integer'},\n",
       "  'address': {'$ref': '#/$defs/Address'}},\n",
       " 'required': ['name', 'age', 'address'],\n",
       " 'title': 'PersonAddress',\n",
       " 'type': 'object'}"
      ]
     },
     "execution_count": 2,
     "metadata": {},
     "output_type": "execute_result"
    }
   ],
   "source": [
    "from pydantic import BaseModel, Field\n",
    "\n",
    "class Person(BaseModel):\n",
    "    name: str\n",
    "    age: int\n",
    "\n",
    "class Address(BaseModel):\n",
    "    address: str = Field(description=\"Full street address\")\n",
    "    city: str\n",
    "    state: str\n",
    "\n",
    "\n",
    "class PersonAddress(Person):\n",
    "    \"\"\"A Person with an address\"\"\"\n",
    "\n",
    "    address: Address\n",
    "\n",
    "\n",
    "PersonAddress.model_json_schema()"
   ]
  },
  {
   "cell_type": "markdown",
   "metadata": {},
   "source": [
    "## AIM OF THE PROJECT\n",
    "1. Given a question, figure out what ticker, year, quarter, form type it is talking about\n",
    "2. Collect this metadata and search from vector database from relevant ticker(s) \n",
    "3. RAG application\n",
    "4. Add a LLM Validator to ask questions related to finance only"
   ]
  },
  {
   "cell_type": "code",
   "execution_count": 3,
   "metadata": {},
   "outputs": [
    {
     "name": "stderr",
     "output_type": "stream",
     "text": [
      "[nltk_data] Downloading package punkt to /home/athekunal/nltk_data...\n",
      "[nltk_data]   Package punkt is already up-to-date!\n"
     ]
    }
   ],
   "source": [
    "from src.vectorDatabase import create_database\n",
    "\n",
    "# qdrant_client,speakers_list_1,speakers_list_2,speakers_list_3,speakers_list_4,sec_form_names,earnings_call_quarter_vals, = create_database(\"AAPL\",2023)"
   ]
  },
  {
   "cell_type": "code",
   "execution_count": 4,
   "metadata": {},
   "outputs": [],
   "source": [
    "import instructor\n",
    "\n",
    "from openai import OpenAI\n",
    "from typing import List\n",
    "from pydantic import BaseModel, Field\n",
    "\n",
    "client = instructor.patch(OpenAI())"
   ]
  },
  {
   "cell_type": "code",
   "execution_count": 5,
   "metadata": {},
   "outputs": [],
   "source": [
    "from typing import List, Literal\n",
    "from enum import Enum\n",
    "\n",
    "class Source(Enum):\n",
    "    sec_quarter_1 = \"10-Q1\"\n",
    "\n",
    "class TickerYearQuarter(BaseModel):\n",
    "    chain_of_thought: str = Field(\n",
    "        description=\"Think step by step to output what is the ticker symbols, NOT THE COMPANY NAME, quarter, year and data source the question is talking about\"\n",
    "    )\n",
    "    ticker:List[str] \n",
    "    year: List[str] = Field(description=\"The year that the question is talking about\")\n",
    "    quarter: List[str] = Field(description=\"The quarter number that the question is talking about. Make sure that it starts with Q, for example Quarter 4 is Q4\")\n",
    "    data_source: Literal[\"CALLS\",\"SEC\"] = Field(description=\"If the question is talking about SEC filings then output SEC, else if the question is talking about Earning calls transcript then output CALLS\")\n",
    "\n",
    "class Query(BaseModel):\n",
    "    rewritten_query: str = Field(description=\"Rewrite the query and DON'T include the company name, years, quarters and data sources\")\n",
    "    question_ticker_quarter_year: TickerYearQuarter"
   ]
  },
  {
   "cell_type": "code",
   "execution_count": 6,
   "metadata": {},
   "outputs": [],
   "source": [
    "from datetime import datetime\n",
    "import pandas as pd\n",
    "\n",
    "def expand_query(q) -> Query:\n",
    "    datetime_obj =  datetime.today().strftime(\"%Y-%m-%d\")\n",
    "    quarter = pd.Timestamp(datetime_obj).quarter\n",
    "    year = pd.Timestamp(datetime_obj).year\n",
    "    return client.chat.completions.create(\n",
    "        model=\"gpt-3.5-turbo-0125\",\n",
    "        temperature=0.0,\n",
    "        response_model=Query,\n",
    "        messages=[\n",
    "            {\n",
    "                \"role\": \"system\",\n",
    "                \"content\": f\"You're a query understanding system for SEC Filings and Earnings Call. The current year is {year} and quarter {quarter}. Here are some tips: ...\",\n",
    "            },\n",
    "            {\"role\": \"user\", \"content\": f\"query: {q}\"},\n",
    "        ],\n",
    "    )\n",
    "\n",
    "\n",
    "# query = expand_query(\"What did Apple, Nvidia do for Generative AI in 2023 quarter 3, 2 and 1 from earnings call\")\n",
    "query = expand_query(\"What did Apple and Amazon do for Generative AI in 2023 in quarter 4 from earnings call\")"
   ]
  },
  {
   "cell_type": "code",
   "execution_count": 7,
   "metadata": {},
   "outputs": [
    {
     "data": {
      "text/plain": [
       "Query(rewritten_query='Generative AI initiatives in Q4 2023 for Apple and Amazon from earnings call', question_ticker_quarter_year=TickerYearQuarter(chain_of_thought='Generative AI initiatives in Q4 2023', ticker=['AAPL', 'AMZN'], year=['2023'], quarter=['Q4'], data_source='CALLS'))"
      ]
     },
     "execution_count": 7,
     "metadata": {},
     "output_type": "execute_result"
    }
   ],
   "source": [
    "query"
   ]
  },
  {
   "cell_type": "code",
   "execution_count": 8,
   "metadata": {},
   "outputs": [
    {
     "data": {
      "text/plain": [
       "['2023']"
      ]
     },
     "execution_count": 8,
     "metadata": {},
     "output_type": "execute_result"
    }
   ],
   "source": [
    "query.question_ticker_quarter_year.year"
   ]
  },
  {
   "cell_type": "code",
   "execution_count": 9,
   "metadata": {},
   "outputs": [
    {
     "data": {
      "text/plain": [
       "['Q4']"
      ]
     },
     "execution_count": 9,
     "metadata": {},
     "output_type": "execute_result"
    }
   ],
   "source": [
    "query.question_ticker_quarter_year.quarter"
   ]
  },
  {
   "cell_type": "code",
   "execution_count": 10,
   "metadata": {},
   "outputs": [],
   "source": [
    "tickers = query.question_ticker_quarter_year.ticker\n",
    "years = query.question_ticker_quarter_year.year\n",
    "quarter = query.question_ticker_quarter_year.quarter\n"
   ]
  },
  {
   "cell_type": "code",
   "execution_count": 11,
   "metadata": {},
   "outputs": [],
   "source": [
    "# tic = 'AAPL'\n",
    "# var_name = f\"qdrant_client_{tic}\"\n",
    "# globals()[var_name] = qdrant_client"
   ]
  },
  {
   "cell_type": "code",
   "execution_count": 12,
   "metadata": {},
   "outputs": [],
   "source": [
    "# qdrant_client_AAPL"
   ]
  },
  {
   "cell_type": "code",
   "execution_count": 13,
   "metadata": {},
   "outputs": [
    {
     "name": "stdout",
     "output_type": "stream",
     "text": [
      "Building vector database for AAPL and year 2023\n"
     ]
    },
    {
     "name": "stderr",
     "output_type": "stream",
     "text": [
      "/home/athekunal/Wandb Course/wandb-env/lib/python3.11/site-packages/torch/cuda/__init__.py:141: UserWarning: CUDA initialization: The NVIDIA driver on your system is too old (found version 11060). Please update your GPU driver by downloading and installing a new version from the URL: http://www.nvidia.com/Download/index.aspx Alternatively, go to: https://pytorch.org to install a PyTorch version that has been compiled with your version of the CUDA driver. (Triggered internally at ../c10/cuda/CUDAFunctions.cpp:108.)\n",
      "  return torch._C._cuda_getDeviceCount() > 0\n"
     ]
    },
    {
     "name": "stdout",
     "output_type": "stream",
     "text": [
      "Done for AAPL and year 2023\n",
      "Building vector database for AMZN and year 2023\n",
      "Done for AMZN and year 2023\n"
     ]
    }
   ],
   "source": [
    "tic_yr_dict = {}\n",
    "for tic in tickers:\n",
    "    for yr in years:\n",
    "        print(f\"Building vector database for {tic} and year {yr}\")\n",
    "        qdrant_client,speakers_list_1,speakers_list_2,speakers_list_3,speakers_list_4,sec_form_names,earnings_call_quarter_vals = create_database(tic,yr)\n",
    "        qd_client_var_name = f\"qdrant_client_{tic}\"\n",
    "        tic_yr_dict[qd_client_var_name] = qdrant_client\n",
    "        speakers_list_1_var_name = f\"speakers_list_1_{tic}\"\n",
    "        tic_yr_dict[speakers_list_1_var_name] = speakers_list_1\n",
    "        speakers_list_2_var_name = f\"speakers_list_2_{tic}\"\n",
    "        tic_yr_dict[speakers_list_2_var_name] = speakers_list_2\n",
    "        speakers_list_3_var_name = f\"speakers_list_3_{tic}\"\n",
    "        tic_yr_dict[speakers_list_3_var_name] = speakers_list_3\n",
    "        speakers_list_4_var_name = f\"speakers_list_4_{tic}\"\n",
    "        tic_yr_dict[speakers_list_4_var_name] = speakers_list_4\n",
    "        sec_form_names_var_name = f\"sec_form_names_{tic}\"\n",
    "        tic_yr_dict[sec_form_names_var_name] = sec_form_names\n",
    "        earnings_call_quarter_vals_var_name = f\"earnings_call_quarter_vals_{tic}\"\n",
    "        tic_yr_dict[earnings_call_quarter_vals_var_name] = earnings_call_quarter_vals_var_name\n",
    "    print(f\"Done for {tic} and year {yr}\")"
   ]
  },
  {
   "cell_type": "code",
   "execution_count": 14,
   "metadata": {},
   "outputs": [],
   "source": [
    "from sentence_transformers import SentenceTransformer\n",
    "from src.config import *\n",
    "import torch\n",
    "\n",
    "device = \"cuda\" if torch.cuda.is_available() else \"cpu\"\n",
    "encoder = SentenceTransformer(\n",
    "        ENCODER_NAME, device=device, trust_remote_code=True\n",
    "    )"
   ]
  },
  {
   "cell_type": "code",
   "execution_count": 15,
   "metadata": {},
   "outputs": [
    {
     "data": {
      "text/plain": [
       "Query(rewritten_query='Generative AI initiatives in Q4 2023 for Apple and Amazon from earnings call', question_ticker_quarter_year=TickerYearQuarter(chain_of_thought='Generative AI initiatives in Q4 2023', ticker=['AAPL', 'AMZN'], year=['2023'], quarter=['Q4'], data_source='CALLS'))"
      ]
     },
     "execution_count": 15,
     "metadata": {},
     "output_type": "execute_result"
    }
   ],
   "source": [
    "query "
   ]
  },
  {
   "cell_type": "code",
   "execution_count": 27,
   "metadata": {},
   "outputs": [],
   "source": [
    "from src.queryDatabase import query_database_earnings_call, query_database_sec\n",
    "\n",
    "question = query.rewritten_query\n",
    "relevant_text = \"\"\n",
    "for tic in tickers:\n",
    "    if query.question_ticker_quarter_year.data_source == \"CALLS\":\n",
    "        for q in quarter:\n",
    "            print(q)\n",
    "            if q == \"Q1\":\n",
    "                speakers_list = tic_yr_dict[f\"speakers_list_1_{tic}\"]\n",
    "            elif q == \"Q2\":\n",
    "                speakers_list = tic_yr_dict[f\"speakers_list_2_{tic}\"]\n",
    "            elif q == \"Q3\":\n",
    "                speakers_list = tic_yr_dict[f\"speakers_list_3_{tic}\"]\n",
    "            elif q == \"Q4\":\n",
    "                speakers_list = tic_yr_dict[f\"speakers_list_4_{tic}\"]\n",
    "            \n",
    "            relevant_text += f\"For {tic} and Quarter {q}\\n\"\n",
    "            relevant_text += query_database_earnings_call(question,q,tic_yr_dict[f\"qdrant_client_{tic}\"],encoder,speakers_list)\n",
    "    if query.question_ticker_quarter_year.data_source == \"SEC\":\n",
    "        if quarter == [\"\"]:\n",
    "            search_form = \"10-K\"\n",
    "            relevant_text += query_database_sec(question, tic_yr_dict[f\"qdrant_client_{tic}\"], encoder, search_form)\n",
    "        else:\n",
    "            for q in quarter:\n",
    "                search_form = \"10-\"+q\n",
    "                relevant_text += f\"For ticker {tic} and Quarter {q}\\n\"\n",
    "                relevant_text += query_database_sec(question, tic_yr_dict[f\"qdrant_client_{tic}\"], encoder, search_form)\n",
    "            "
   ]
  },
  {
   "cell_type": "code",
   "execution_count": 41,
   "metadata": {},
   "outputs": [],
   "source": [
    "from openai import AsyncOpenAI\n",
    "from typing import List, Literal\n",
    "from enum import Enum\n",
    "from pydantic import AfterValidator\n",
    "from datetime import datetime\n",
    "import pandas as pd\n",
    "from instructor import llm_validator\n",
    "from typing_extensions import Annotated\n",
    "\n",
    "aclient = instructor.patch(AsyncOpenAI())\n",
    "\n",
    "\n",
    "FinanceTopicStr = Annotated[\n",
    "    str,\n",
    "    AfterValidator(\n",
    "        llm_validator(\n",
    "            \"don't talk about any other topic except finance\",\n",
    "            openai_client=aclient,\n",
    "        )\n",
    "    ),\n",
    "]\n",
    "\n",
    "class TickerYearQuarter(BaseModel):\n",
    "    chain_of_thought: str = Field(\n",
    "        description=\"Think step by step to output what is the ticker symbols, NOT THE COMPANY NAME, quarter, year and data source the question is talking about\"\n",
    "    )\n",
    "    ticker:List[str] \n",
    "    year: List[str] = Field(description=\"The year that the question is talking about\")\n",
    "    quarter: List[str] = Field(description=\"The quarter number that the question is talking about. Make sure that it starts with Q, for example Quarter 4 is Q4\")\n",
    "    data_source: Literal[\"CALLS\",\"SEC\"] = Field(description=\"If the question is talking about SEC filings then output SEC, else if the question is talking about Earning calls transcript then output CALLS\")\n",
    "\n",
    "class Query(BaseModel):\n",
    "    rewritten_query: str = Field(description=\"Rewrite the query and DON'T include the company name, years, quarters and data sources\")\n",
    "    question_ticker_quarter_year: TickerYearQuarter\n",
    "    def report(self):\n",
    "        dct = self.model_dump()\n",
    "        dct[\"usage\"] = self._raw_response.usage.model_dump()\n",
    "        return dct\n",
    "\n",
    "async def expand_query(q) -> Query:\n",
    "    datetime_obj =  datetime.today().strftime(\"%Y-%m-%d\")\n",
    "    quarter = pd.Timestamp(datetime_obj).quarter\n",
    "    year = pd.Timestamp(datetime_obj).year\n",
    "    return client.chat.completions.create(\n",
    "        model=\"gpt-3.5-turbo-0125\",\n",
    "        temperature=0.0,\n",
    "        response_model=Query,\n",
    "        messages=[\n",
    "            {\n",
    "                \"role\": \"system\",\n",
    "                \"content\": f\"You're a query understanding system for SEC Filings and Earnings Call. The current year is {year} and quarter {quarter}. Here are some tips: ...\",\n",
    "            },\n",
    "            {\"role\": \"user\", \"content\": f\"query: {q}\"},\n",
    "        ],\n",
    "    )"
   ]
  },
  {
   "cell_type": "code",
   "execution_count": 42,
   "metadata": {},
   "outputs": [
    {
     "ename": "AttributeError",
     "evalue": "'coroutine' object has no attribute 'is_valid'",
     "output_type": "error",
     "traceback": [
      "\u001b[0;31m---------------------------------------------------------------------------\u001b[0m",
      "\u001b[0;31mAttributeError\u001b[0m                            Traceback (most recent call last)",
      "Cell \u001b[0;32mIn[42], line 5\u001b[0m\n\u001b[1;32m      1\u001b[0m \u001b[38;5;28;01mclass\u001b[39;00m \u001b[38;5;21;01mAssistantMessage\u001b[39;00m(BaseModel):\n\u001b[1;32m      2\u001b[0m     message: FinanceTopicStr\n\u001b[0;32m----> 5\u001b[0m \u001b[43mAssistantMessage\u001b[49m\u001b[43m(\u001b[49m\n\u001b[1;32m      6\u001b[0m \u001b[43m    \u001b[49m\u001b[43mmessage\u001b[49m\u001b[38;5;241;43m=\u001b[39;49m\u001b[38;5;124;43m\"\u001b[39;49m\u001b[38;5;124;43mI would suggest you to visit Sicily as they say it is very nice in winter.\u001b[39;49m\u001b[38;5;124;43m\"\u001b[39;49m\n\u001b[1;32m      7\u001b[0m \u001b[43m)\u001b[49m\n",
      "    \u001b[0;31m[... skipping hidden 1 frame]\u001b[0m\n",
      "File \u001b[0;32m~/Wandb Course/wandb-env/lib/python3.11/site-packages/instructor/dsl/validators.py:92\u001b[0m, in \u001b[0;36mllm_validator.<locals>.llm\u001b[0;34m(v)\u001b[0m\n\u001b[1;32m     74\u001b[0m resp \u001b[38;5;241m=\u001b[39m openai_client\u001b[38;5;241m.\u001b[39mchat\u001b[38;5;241m.\u001b[39mcompletions\u001b[38;5;241m.\u001b[39mcreate(\n\u001b[1;32m     75\u001b[0m     response_model\u001b[38;5;241m=\u001b[39mValidator,\n\u001b[1;32m     76\u001b[0m     messages\u001b[38;5;241m=\u001b[39m[\n\u001b[0;32m   (...)\u001b[0m\n\u001b[1;32m     87\u001b[0m     temperature\u001b[38;5;241m=\u001b[39mtemperature,\n\u001b[1;32m     88\u001b[0m )\n\u001b[1;32m     90\u001b[0m \u001b[38;5;66;03m# If the response is  not valid, return the reason, this could be used in\u001b[39;00m\n\u001b[1;32m     91\u001b[0m \u001b[38;5;66;03m# the future to generate a better response, via reasking mechanism.\u001b[39;00m\n\u001b[0;32m---> 92\u001b[0m \u001b[38;5;28;01massert\u001b[39;00m \u001b[43mresp\u001b[49m\u001b[38;5;241;43m.\u001b[39;49m\u001b[43mis_valid\u001b[49m, resp\u001b[38;5;241m.\u001b[39mreason\n\u001b[1;32m     94\u001b[0m \u001b[38;5;28;01mif\u001b[39;00m allow_override \u001b[38;5;129;01mand\u001b[39;00m \u001b[38;5;129;01mnot\u001b[39;00m resp\u001b[38;5;241m.\u001b[39mis_valid \u001b[38;5;129;01mand\u001b[39;00m resp\u001b[38;5;241m.\u001b[39mfixed_value \u001b[38;5;129;01mis\u001b[39;00m \u001b[38;5;129;01mnot\u001b[39;00m \u001b[38;5;28;01mNone\u001b[39;00m:\n\u001b[1;32m     95\u001b[0m     \u001b[38;5;66;03m# If the value is not valid, but we allow override, return the fixed value\u001b[39;00m\n\u001b[1;32m     96\u001b[0m     \u001b[38;5;28;01mreturn\u001b[39;00m resp\u001b[38;5;241m.\u001b[39mfixed_value\n",
      "\u001b[0;31mAttributeError\u001b[0m: 'coroutine' object has no attribute 'is_valid'"
     ]
    }
   ],
   "source": [
    "class AssistantMessage(BaseModel):\n",
    "    message: FinanceTopicStr\n",
    "\n",
    "\n",
    "AssistantMessage(\n",
    "    message=\"I would suggest you to visit Sicily as they say it is very nice in winter.\"\n",
    ")"
   ]
  },
  {
   "cell_type": "code",
   "execution_count": 43,
   "metadata": {},
   "outputs": [],
   "source": [
    "def pipeline(question):\n",
    "    try:\n",
    "        AssistantMessage(\n",
    "            message=question\n",
    "        )\n",
    "        return expand_query(question)\n",
    "    except AttributeError as e:\n",
    "        print(\"This is a financial chatbot, please talk about it financial related topics\")"
   ]
  },
  {
   "cell_type": "code",
   "execution_count": 39,
   "metadata": {},
   "outputs": [
    {
     "data": {
      "text/html": [
       "Tracking run with wandb version 0.16.3"
      ],
      "text/plain": [
       "<IPython.core.display.HTML object>"
      ]
     },
     "metadata": {},
     "output_type": "display_data"
    },
    {
     "data": {
      "text/html": [
       "Run data is saved locally in <code>/home/athekunal/Wandb Course/Wandb-Structured-Output-Course/wandb/run-20240226_194546-nkk1ezfa</code>"
      ],
      "text/plain": [
       "<IPython.core.display.HTML object>"
      ]
     },
     "metadata": {},
     "output_type": "display_data"
    },
    {
     "data": {
      "text/html": [
       "Syncing run <strong><a href='https://wandb.ai/ad-finance/query/runs/nkk1ezfa' target=\"_blank\">stoic-serenity-5</a></strong> to <a href='https://wandb.ai/ad-finance/query' target=\"_blank\">Weights & Biases</a> (<a href='https://wandb.me/run' target=\"_blank\">docs</a>)<br/>"
      ],
      "text/plain": [
       "<IPython.core.display.HTML object>"
      ]
     },
     "metadata": {},
     "output_type": "display_data"
    },
    {
     "data": {
      "text/html": [
       " View project at <a href='https://wandb.ai/ad-finance/query' target=\"_blank\">https://wandb.ai/ad-finance/query</a>"
      ],
      "text/plain": [
       "<IPython.core.display.HTML object>"
      ]
     },
     "metadata": {},
     "output_type": "display_data"
    },
    {
     "data": {
      "text/html": [
       " View run at <a href='https://wandb.ai/ad-finance/query/runs/nkk1ezfa' target=\"_blank\">https://wandb.ai/ad-finance/query/runs/nkk1ezfa</a>"
      ],
      "text/plain": [
       "<IPython.core.display.HTML object>"
      ]
     },
     "metadata": {},
     "output_type": "display_data"
    },
    {
     "name": "stderr",
     "output_type": "stream",
     "text": [
      "wandb: WARNING Source type is set to 'repo' but some required information is missing from the environment. A job will not be created from this run. See https://docs.wandb.ai/guides/launch/create-job\n"
     ]
    },
    {
     "data": {
      "application/vnd.jupyter.widget-view+json": {
       "model_id": "6089ca957d1747428304d046c39f2e4f",
       "version_major": 2,
       "version_minor": 0
      },
      "text/plain": [
       "VBox(children=(Label(value='0.026 MB of 0.101 MB uploaded\\r'), FloatProgress(value=0.2574158963479315, max=1.0…"
      ]
     },
     "metadata": {},
     "output_type": "display_data"
    },
    {
     "data": {
      "text/html": [
       "W&B sync reduced upload amount by 1.9%             "
      ],
      "text/plain": [
       "<IPython.core.display.HTML object>"
      ]
     },
     "metadata": {},
     "output_type": "display_data"
    },
    {
     "data": {
      "text/html": [
       "<style>\n",
       "    table.wandb td:nth-child(1) { padding: 0 10px; text-align: left ; width: auto;} td:nth-child(2) {text-align: left ; width: 100%}\n",
       "    .wandb-row { display: flex; flex-direction: row; flex-wrap: wrap; justify-content: flex-start; width: 100% }\n",
       "    .wandb-col { display: flex; flex-direction: column; flex-basis: 100%; flex: 1; padding: 10px; }\n",
       "    </style>\n",
       "<div class=\"wandb-row\"><div class=\"wandb-col\"><h3>Run history:</h3><br/><table class=\"wandb\"><tr><td>average duration (s)</td><td>▁</td></tr><tr><td>duration (s)</td><td>▁</td></tr><tr><td>n_queries</td><td>▁</td></tr><tr><td>usage_completion_tokens</td><td>▁</td></tr><tr><td>usage_prompt_tokens</td><td>▁</td></tr><tr><td>usage_total_tokens</td><td>▁</td></tr></table><br/></div><div class=\"wandb-col\"><h3>Run summary:</h3><br/><table class=\"wandb\"><tr><td>average duration (s)</td><td>11.76822</td></tr><tr><td>duration (s)</td><td>70.6093</td></tr><tr><td>n_queries</td><td>6</td></tr><tr><td>usage_completion_tokens</td><td>430</td></tr><tr><td>usage_prompt_tokens</td><td>1847</td></tr><tr><td>usage_total_tokens</td><td>2277</td></tr></table><br/></div></div>"
      ],
      "text/plain": [
       "<IPython.core.display.HTML object>"
      ]
     },
     "metadata": {},
     "output_type": "display_data"
    },
    {
     "data": {
      "text/html": [
       " View run <strong style=\"color:#cdcd00\">stoic-serenity-5</strong> at: <a href='https://wandb.ai/ad-finance/query/runs/nkk1ezfa' target=\"_blank\">https://wandb.ai/ad-finance/query/runs/nkk1ezfa</a><br/>Synced 5 W&B file(s), 2 media file(s), 5 artifact file(s) and 1 other file(s)"
      ],
      "text/plain": [
       "<IPython.core.display.HTML object>"
      ]
     },
     "metadata": {},
     "output_type": "display_data"
    },
    {
     "data": {
      "text/html": [
       "Find logs at: <code>./wandb/run-20240226_194546-nkk1ezfa/logs</code>"
      ],
      "text/plain": [
       "<IPython.core.display.HTML object>"
      ]
     },
     "metadata": {},
     "output_type": "display_data"
    }
   ],
   "source": [
    "import asyncio\n",
    "import time\n",
    "import pandas as pd\n",
    "import wandb\n",
    "from src.helpers import *\n",
    "import json\n",
    "model = \"gpt-3.5-turbo\"\n",
    "temp = 0\n",
    "\n",
    "run = wandb.init(\n",
    "    project=\"query\",\n",
    "    config={\"model\": model, \"temp\": temp},\n",
    ")\n",
    "\n",
    "test_queries = [\n",
    "    \"What did Apple and Amazon do for Generative AI in 2023 in quarter 4 from earnings call?\",\n",
    "    \"What did Apple and Amazon do for Generative AI in 2023 in quarter 4 and quarter 3?\",\n",
    "    \"Compare the total revenue generated by Apple and Amazon for the year 2023 and quarter 4 from earnings call\",\n",
    "    \"How did Amazon AWS perform for the year 2023 and quarter 4?\",\n",
    "    \"Compare the iPhone sales for Apple from 2023 quarter 3 to quarter 4\",\n",
    "    \"Did Apple face any geographical challenges in quarter 3 in 2022 and 2021?\"\n",
    "]\n",
    "start = time.perf_counter()\n",
    "queries = await asyncio.gather(\n",
    "    *[pipeline(q) for q in test_queries]\n",
    ")\n",
    "duration = time.perf_counter() - start\n",
    "\n",
    "with open(\"schema.json\", \"w+\") as f:\n",
    "    schema = Query.model_json_schema()\n",
    "    json.dump(schema, f, indent=2)\n",
    "\n",
    "with open(\"results.jsonlines\", \"w+\") as f:\n",
    "    for query in queries:\n",
    "        f.write(query.model_dump_json() + \"\\n\")\n",
    "\n",
    "df = dicts_to_df([q.report() for q in queries])\n",
    "df[\"input\"] = test_queries\n",
    "df.to_csv(\"results.csv\")\n",
    "\n",
    "\n",
    "run.log({\"schema\": wandb.Table(dataframe=pd.DataFrame([{\"schema\": schema}]))})\n",
    "\n",
    "run.log(\n",
    "    {\n",
    "        \"usage_total_tokens\": df[\"usage_total_tokens\"].sum(),\n",
    "        \"usage_completion_tokens\": df[\"usage_completion_tokens\"].sum(),\n",
    "        \"usage_prompt_tokens\": df[\"usage_prompt_tokens\"].sum(),\n",
    "        \"duration (s)\": duration,\n",
    "        \"average duration (s)\": duration / len(queries),\n",
    "        \"n_queries\": len(queries),\n",
    "    }\n",
    ")\n",
    "\n",
    "\n",
    "run.log(\n",
    "    {\n",
    "        \"results\": wandb.Table(dataframe=df),\n",
    "    }\n",
    ")\n",
    "\n",
    "files = wandb.Artifact(\"data\", type=\"dataset\")\n",
    "\n",
    "files.add_file(\"schema.json\")\n",
    "files.add_file(\"results.jsonlines\")\n",
    "files.add_file(\"results.csv\")\n",
    "\n",
    "\n",
    "run.log_artifact(files)\n",
    "run.finish()"
   ]
  },
  {
   "cell_type": "code",
   "execution_count": null,
   "metadata": {},
   "outputs": [],
   "source": []
  }
 ],
 "metadata": {
  "kernelspec": {
   "display_name": "wandb-env",
   "language": "python",
   "name": "python3"
  },
  "language_info": {
   "codemirror_mode": {
    "name": "ipython",
    "version": 3
   },
   "file_extension": ".py",
   "mimetype": "text/x-python",
   "name": "python",
   "nbconvert_exporter": "python",
   "pygments_lexer": "ipython3",
   "version": "3.11.4"
  }
 },
 "nbformat": 4,
 "nbformat_minor": 2
}
